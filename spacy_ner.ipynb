{
 "cells": [
  {
   "cell_type": "markdown",
   "metadata": {
    "collapsed": true
   },
   "source": [
    "# Resume NER\n",
    "## Extract Information from Resumes using NER (Named Entity Recognition)"
   ]
  },
  {
   "cell_type": "markdown",
   "metadata": {},
   "source": [
    "### Part 2 - NER with Spacy\n",
    "In this second part of the challenge, we will be using the preprocessed data from part one to start training NER models. We will be using spacy (https://spacy.io/) here to \"get our feet wet\" with NER, as training spacy can be reasonably done on our laptops and does not yet necessarily require a GPU. Spacy is a powerful, effective, and resource-efficient NLP library - It might surprise us with its performance on the challenge!\n",
    "\n",
    "We will run spacy's pretrained models on our data to get a feel for NER, and then we will perform some additional preprocessing on our data before we start training our own NER model using the labelled entities we have identified in part one. \n",
    "We will also explore evaluation metrics for NER, and decide how we want to quantify the performance of our trained models. \n",
    "\n",
    "* *If you need help setting up python or running this notebook, please get help from the  assistants to the professor*\n",
    "* *It might be helpful to try your code out first in a python ide like pycharm before copying it an running it here in this notebook*\n",
    "* *For solving the programming tasks, use the python reference linked here (Help->Python Reference) as well as Web-searches.* "
   ]
  },
  {
   "cell_type": "markdown",
   "metadata": {},
   "source": [
    "##### Reload preprocessed data\n",
    "Here, we will load the data we saved in part one and save it to a variable. Provide code below to load the data and store it as a list in a variable. (Hint - use 'open' and the json module)"
   ]
  },
  {
   "cell_type": "code",
   "execution_count": 2,
   "metadata": {},
   "outputs": [
    {
     "name": "stdout",
     "output_type": "stream",
     "text": [
      "690\n"
     ]
    }
   ],
   "source": [
    "## import json module\n",
    "import json\n",
    "path = \"data/converted_resumes.json\"\n",
    "## TODO open file load as json and store in \"resumes\" variable\n",
    "with open(path, \"r\") as f:\n",
    "    resumes = json.load(f)\n",
    "## TODO print length of loaded resumes list to be sure everything ok\n",
    "print(len(resumes))"
   ]
  },
  {
   "cell_type": "markdown",
   "metadata": {},
   "source": [
    "##### Take Spacy for a spin\n",
    "Before we train our own NER model to recognize the resume-specific entities we want to capture, let's see how spacy's pretrained NER models do on our data. These pretrained models can't recognize our entities yet, but let's see how they do. Run the next code block to load spacy's English language model \n"
   ]
  },
  {
   "cell_type": "code",
   "execution_count": 3,
   "metadata": {
    "scrolled": true
   },
   "outputs": [
    {
     "name": "stdout",
     "output_type": "stream",
     "text": [
      "<spacy.lang.en.English object at 0x000001D762BD6828>\n"
     ]
    }
   ],
   "source": [
    "import spacy\n",
    "nlp = spacy.load('en_core_web_sm')\n",
    "print(nlp)"
   ]
  },
  {
   "cell_type": "markdown",
   "metadata": {},
   "source": [
    "Now we get the EntityRecognizer in the loaded nlp pipeline and display the labels it supports"
   ]
  },
  {
   "cell_type": "code",
   "execution_count": 4,
   "metadata": {},
   "outputs": [
    {
     "name": "stdout",
     "output_type": "stream",
     "text": [
      "('PERCENT', 'MONEY', 'PRODUCT', 'LOC', 'DATE', 'LAW', 'CARDINAL', 'EVENT', 'PERSON', 'ORDINAL', 'FAC', 'LANGUAGE', 'QUANTITY', 'WORK_OF_ART', 'NORP', 'GPE', 'TIME', 'ORG')\n"
     ]
    }
   ],
   "source": [
    "ner = nlp.get_pipe('ner')\n",
    "labels = ner.labels\n",
    "print(labels)"
   ]
  },
  {
   "cell_type": "markdown",
   "metadata": {},
   "source": [
    "##### Question: What do the 'GPE', 'FAC' and 'NORP' labels stand for? (Tipp: use either the spacy.explain method, or google the spacy.io api docs) \n"
   ]
  },
  {
   "cell_type": "code",
   "execution_count": 5,
   "metadata": {},
   "outputs": [
    {
     "name": "stdout",
     "output_type": "stream",
     "text": [
      "GPE description:  Countries, cities, states\n",
      "FAC description:  Buildings, airports, highways, bridges, etc.\n",
      "NORP description:  Nationalities or religious or political groups\n"
     ]
    }
   ],
   "source": [
    "### TODO  if you choose to use spacy's 'explain' method to get the answer to the question above, provide your code here\n",
    "GPE = spacy.explain(\"GPE\")\n",
    "FAC = spacy.explain(\"FAC\")\n",
    "NORP = spacy.explain(\"NORP\")\n",
    "## print description of entities using spacy explain\n",
    "print(\"GPE description: \", GPE)\n",
    "print(\"FAC description: \", FAC)\n",
    "print(\"NORP description: \", NORP)"
   ]
  },
  {
   "cell_type": "markdown",
   "metadata": {},
   "source": [
    "As we can see, the entities are different than the entities we will train our custom model on. \n",
    "##### Question: what entities do you think this model will find in an example resume?\n",
    " Countries, cities, states, Nationalities, ORG, LANGUAGE and DATE\n",
    " "
   ]
  },
  {
   "cell_type": "markdown",
   "metadata": {},
   "source": [
    "Now we will work with one of our resumes, and get spacy to tell us what entities it recognizes. Complete the code block below to get a single resume text out of our resume list. "
   ]
  },
  {
   "cell_type": "code",
   "execution_count": 6,
   "metadata": {},
   "outputs": [
    {
     "name": "stdout",
     "output_type": "stream",
     "text": [
      "Afreen Jamadar\n",
      "Active member of IIIT Committee in Third year\n",
      "Sangli, Maharashtra - Email me on Indeed: indeed.com/r/Afreen-Jamadar/8baf379b705e37c6\n",
      "I wish to use my knowledge, skills and conceptual understanding to create excellent team\n",
      "environments and work consistently achieving organization objectives believes in taking initiative\n",
      "and work to excellence in my work.\n",
      "WORK EXPERIENCE\n",
      "Active member of IIIT Committee in Third year\n",
      "Cisco Networking -  Kanpur, Uttar Pradesh\n",
      "organized by Techkriti IIT Kanpur and Azure Skynet.\n",
      "PERSONALLITY TRAITS:\n",
      "• Quick learning ability\n",
      "• hard working\n",
      "EDUCATION\n",
      "PG-DAC\n",
      "CDAC ACTS\n",
      "2017\n",
      "Bachelor of Engg in Information Technology\n",
      "Shivaji University Kolhapur -  Kolhapur, Maharashtra\n",
      "2016\n",
      "SKILLS\n",
      "Database (Less than 1 year), HTML (Less than 1 year), Linux. (Less than 1 year), MICROSOFT\n",
      "ACCESS (Less than 1 year), MICROSOFT WINDOWS (Less than 1 year)\n",
      "ADDITIONAL INFORMATION\n",
      "TECHNICAL SKILLS:\n",
      "• Programming Languages: C, C++, Java, .net, php.\n",
      "• Web Designing: HTML, XML\n",
      "• Operating Systems: Windows […] Windows Server 2003, Linux.\n",
      "• Database: MS Access, MS SQL Server 2008, Oracle 10g, MySql.\n",
      "https://www.indeed.com/r/Afreen-Jamadar/8baf379b705e37c6?isid=rex-download&ikw=download-top&co=IN\n"
     ]
    }
   ],
   "source": [
    "### TODO get a single resume text and print it out\n",
    "restxt = resumes[0][0]\n",
    "## print it out, removing extraneous spaces\n",
    "print(\"\\n\".join(restxt.split('\\n\\n')))"
   ]
  },
  {
   "cell_type": "markdown",
   "metadata": {},
   "source": [
    "Extracting entities with spacy is easy with a pretrained model. We simply call the model (here 'nlp') with our text to get a spacy Document. See https://spacy.io/api/doc for more detail. \n",
    "\n",
    "Execute the code below to process the resume txt."
   ]
  },
  {
   "cell_type": "code",
   "execution_count": 7,
   "metadata": {},
   "outputs": [],
   "source": [
    "doc = nlp(restxt)"
   ]
  },
  {
   "cell_type": "markdown",
   "metadata": {},
   "source": [
    "The doc object has a list of entities predicted by spacy 'ents'. We would like to loop through all of these entities and print their label and associated text to see what spacy predicted for this resume.\n",
    "\n",
    "Complete the code below to do this. You will probably need to google the spacy api docs to find the solution (Tipp: look for 'Doc.ents'). Also, trying code in your ide (for example pycharm) before copying it here might help with exploring and debugging to find the solution. "
   ]
  },
  {
   "cell_type": "code",
   "execution_count": 8,
   "metadata": {},
   "outputs": [
    {
     "name": "stdout",
     "output_type": "stream",
     "text": [
      "Label    Text\n",
      "\n",
      "GPE      Jamadar\n",
      "ORG      IIIT Committee\n",
      "DATE      Third year\n",
      "ORG      Maharashtra\n",
      "ORG      IIIT Committee\n",
      "DATE      Third year\n",
      "PERSON      Cisco Networking -  Kanpur\n",
      "ORG      Uttar Pradesh\n",
      "ORG      Techkriti IIT Kanpur\n",
      "PERSON      Azure Skynet\n",
      "PERSON      Quick\n",
      "ORG      CDAC\n",
      "DATE      2017\n",
      "GPE      Kolhapur\n",
      "ORG      Maharashtra\n",
      "DATE      2016\n",
      "ORG      HTML\n",
      "DATE      Less than 1 year\n",
      "PERSON      Linux\n",
      "DATE      Less than 1 year\n",
      "ORG      MICROSOFT\n",
      "PERSON      ACCESS\n",
      "PERSON      C++\n",
      "PERSON      Java\n",
      "ORG      XML\n",
      "ORG      Operating Systems\n",
      "PERSON      Windows Server\n",
      "DATE      2003\n",
      "GPE      Linux\n",
      "ORG      MS Access\n",
      "ORG      MS SQL\n",
      "DATE      2008\n",
      "PRODUCT      Oracle 10\n",
      "PRODUCT      MySql\n"
     ]
    }
   ],
   "source": [
    "##TODO loop through the doc's entities, and print the label and text for each entity found. \n",
    "entities = doc.ents\n",
    "print(\"Label    Text\\n\")\n",
    "for entity in entities: \n",
    "    print(entity.label_, \"     \" + entity.text)\n",
    " "
   ]
  },
  {
   "cell_type": "markdown",
   "metadata": {},
   "source": [
    "##### Questions: What is your first impression of spacy's NER based on the results above? Does it seem accurate/powerfull?\n",
    "##### Does it make many mistakes? Do some entity types seem more accurate than others? \n",
    "No it does't, there are several worng labeld entities.\n",
    "entities like Date, ORG seem to be more accurate than others "
   ]
  },
  {
   "cell_type": "markdown",
   "metadata": {},
   "source": [
    "Now as a comparison, we will list the entities contained in the resume's original annotated training data (remember, the existing annotations were created by a human-annotator, and not predicted by a machine like the entities predicted above) \n",
    "\n",
    "Complete the code below to do the following: \n",
    "* Access the 'entities' list of the example resume you chose, loop through the entities and print them out. \n",
    "* *Tip: one entity in the list is a tuple with the following structure: (12,1222,\"label\") where the first element is the start index of the entity in the resume text, the second element is the end index, and the third element is the label.\n",
    "* Use this Tip to print out a formatted list of entities \n",
    "\n"
   ]
  },
  {
   "cell_type": "code",
   "execution_count": 9,
   "metadata": {},
   "outputs": [
    {
     "name": "stdout",
     "output_type": "stream",
     "text": [
      "[[1155, 1199, 'Email Address'], [1143, 1240, 'Links'], [743, 1141, 'Skills'], [729, 733, 'Graduation Year'], [675, 703, 'College Name'], [631, 673, 'Degree'], [625, 630, 'Graduation Year'], [614, 623, 'College Name'], [606, 612, 'Degree'], [438, 454, 'Companies worked at'], [104, 148, 'Email Address'], [62, 68, 'Location'], [0, 14, 'Name']]\n",
      "Email Address: indeed.com/r/Afreen-Jamadar/8baf379b705e37c6\n",
      "Links: https://www.indeed.com/r/Afreen-Jamadar/8baf379b705e37c6?isid=rex-download&ikw=download-top&co=IN\n",
      "Skills: Database (Less than 1 year), HTML (Less than 1 year), Linux. (Less than 1 year), MICROSOFT\n",
      "ACCESS (Less than 1 year), MICROSOFT WINDOWS (Less than 1 year)\n",
      "\n",
      "ADDITIONAL INFORMATION\n",
      "\n",
      "TECHNICAL SKILLS:\n",
      "\n",
      "• Programming Languages: C, C++, Java, .net, php.\n",
      "• Web Designing: HTML, XML\n",
      "• Operating Systems: Windows […] Windows Server 2003, Linux.\n",
      "• Database: MS Access, MS SQL Server 2008, Oracle 10g, MySql.\n",
      "Graduation Year: 2016\n",
      "College Name: Shivaji University Kolhapur \n",
      "Degree: Bachelor of Engg in Information Technology\n",
      "Graduation Year: 2017\n",
      "\n",
      "College Name: CDAC ACTS\n",
      "Degree: PG-DAC\n",
      "Companies worked at: Cisco Networking\n",
      "Email Address: indeed.com/r/Afreen-Jamadar/8baf379b705e37c6\n",
      "Location: Sangli\n",
      "Name: Afreen Jamadar\n"
     ]
    }
   ],
   "source": [
    "##TODO print original entities for one resume\n",
    "res = resumes\n",
    "restext = resumes[0][0]\n",
    "labeled_ents = resumes[0][1]['entities']\n",
    "print(labeled_ents)\n",
    "## TDOD print out formatted list of entity labels and text\n",
    "for ent in labeled_ents:\n",
    "    label = ent[2]\n",
    "    start = ent[0]\n",
    "    end = ent[1]\n",
    "    print(\"{}: {}\".format(label, restext[start:end]))"
   ]
  },
  {
   "cell_type": "markdown",
   "metadata": {},
   "source": [
    "As we already know, the annotated entities in the training data are different than the entities spacy can recognize with it's pretrainied models, so we need to train a custom NER model. We will get started with that now. "
   ]
  },
  {
   "cell_type": "markdown",
   "metadata": {},
   "source": [
    "##### Prepare Training Data for NER model training\n",
    "We need to do some more preprocessing of our training data before we can train our model."
   ]
  },
  {
   "cell_type": "markdown",
   "metadata": {},
   "source": [
    "Remember the entity labels you chose in part 1 of the challenge? We will be training a model to predict those entities.\n",
    "As a first step, we will gather all resumes that contain at least one training annotation for those entities.\n",
    "\n",
    "Complete and execute the code below to gather your training data. "
   ]
  },
  {
   "cell_type": "code",
   "execution_count": 10,
   "metadata": {},
   "outputs": [
    {
     "name": "stdout",
     "output_type": "stream",
     "text": [
      "['Afreen Jamadar\\nActive member of IIIT Committee in Third year\\n\\nSangli, Maharashtra - Email me on Indeed: indeed.com/r/Afreen-Jamadar/8baf379b705e37c6\\n\\nI wish to use my knowledge, skills and conceptual understanding to create excellent team\\nenvironments and work consistently achieving organization objectives believes in taking initiative\\nand work to excellence in my work.\\n\\nWORK EXPERIENCE\\n\\nActive member of IIIT Committee in Third year\\n\\nCisco Networking -  Kanpur, Uttar Pradesh\\n\\norganized by Techkriti IIT Kanpur and Azure Skynet.\\nPERSONALLITY TRAITS:\\n• Quick learning ability\\n• hard working\\n\\nEDUCATION\\n\\nPG-DAC\\n\\nCDAC ACTS\\n\\n2017\\n\\nBachelor of Engg in Information Technology\\n\\nShivaji University Kolhapur -  Kolhapur, Maharashtra\\n\\n2016\\n\\nSKILLS\\n\\nDatabase (Less than 1 year), HTML (Less than 1 year), Linux. (Less than 1 year), MICROSOFT\\nACCESS (Less than 1 year), MICROSOFT WINDOWS (Less than 1 year)\\n\\nADDITIONAL INFORMATION\\n\\nTECHNICAL SKILLS:\\n\\n• Programming Languages: C, C++, Java, .net, php.\\n• Web Designing: HTML, XML\\n• Operating Systems: Windows […] Windows Server 2003, Linux.\\n• Database: MS Access, MS SQL Server 2008, Oracle 10g, MySql.\\n\\nhttps://www.indeed.com/r/Afreen-Jamadar/8baf379b705e37c6?isid=rex-download&ikw=download-top&co=IN', {'entities': [[1155, 1199, 'Email Address'], [1143, 1240, 'Links'], [743, 1141, 'Skills'], [729, 733, 'Graduation Year'], [675, 703, 'College Name'], [631, 673, 'Degree'], [625, 630, 'Graduation Year'], [614, 623, 'College Name'], [606, 612, 'Degree'], [438, 454, 'Companies worked at'], [104, 148, 'Email Address'], [62, 68, 'Location'], [0, 14, 'Name']]}]\n",
      "Gathered 560 training examples\n"
     ]
    }
   ],
   "source": [
    "##TODO Store the entity labels you want to train for as array in chosen_entity_labels\n",
    "import numpy as np\n",
    "chosen_entity_labels = np.array([\"Name\",  \"Companies worked at\", \"Degree\"])\n",
    "\n",
    "## this method gathers all resumes which have all of the chosen entites above.\n",
    "def gather_candidates(dataset,entity_labels):\n",
    "    candidates = list()\n",
    "    for resume in dataset:\n",
    "        res_ent_labels = list(zip(*resume[1][\"entities\"]))[2]\n",
    "        if set(entity_labels).issubset(res_ent_labels):\n",
    "            candidates.append(resume)\n",
    "    return candidates\n",
    "## TODO use the gather candidates methods and store result in training_data variable\n",
    "training_data = gather_candidates(resumes, chosen_entity_labels)\n",
    "print(training_data[0])\n",
    "print(\"Gathered {} training examples\".format(len(training_data)))"
   ]
  },
  {
   "cell_type": "markdown",
   "metadata": {},
   "source": [
    "Now we have those training examples which contain the entities we are interested in. Do you have at least a few hundred examples? If not, you might need to re-think the entities you chose or try just one or two of them and re-run the notebooks. It is important that we have several hundred examples for training (e.g. more than 200. 3-500 is better). "
   ]
  },
  {
   "cell_type": "markdown",
   "metadata": {},
   "source": [
    "##### Remove other entity annotations from training data\n",
    "Now that we have our training data, we want to remove all but relevant (chosen) entity annotations from this data, so that the model we train will only train for our entities. Complete and execute the code below to do this. "
   ]
  },
  {
   "cell_type": "code",
   "execution_count": 11,
   "metadata": {},
   "outputs": [],
   "source": [
    "## filter all annotation based on filter list\n",
    "def filter_ents(ents, filter):\n",
    "    filtered = [ent for ent in ents if ent[2] in filter]\n",
    "    return filtered               \n",
    "## TODO use method above to remove all but relevant (chosen) entity annotations and store in X variable\n",
    "training_data_filterd = []\n",
    "for resume in training_data:\n",
    "    X = filter_ents(resume[1]['entities'], chosen_entity_labels)\n",
    "    resume[1]['entities'] = X\n",
    "    training_data_filterd.append(resume)\n",
    "training_data = training_data_filterd"
   ]
  },
  {
   "cell_type": "markdown",
   "metadata": {},
   "source": [
    "##### Remove resumes that cause errors in spacy\n",
    "Depending on what entities you chose, some of the resumes might cause errors in spacy. We don't need to get into details as to why, suffice to say it has to do with whitespace and syntax in the entity annotations. If these resumes are not removed from our training data, spacy will throw an exception during training, so we need to remove them first. \n",
    "\n",
    "We will use the remove_bad_data function below to do this. This function does the following:\n",
    "* calls train_spacy_ner with debug=True and n_iter=1. This causes spacy to process the documents one-by-one, and gather the documents that throw an exception in a list of \"bad docs\" which it returns. \n",
    "* You will complete the function to remove any baddocs (returned by remove_bad_data) from your training data list. \n",
    "\n",
    "You may or may not have any bad documents depending on the entities you chose. In any case, there should not be more than a dozen or so bad docs.  "
   ]
  },
  {
   "cell_type": "code",
   "execution_count": 12,
   "metadata": {},
   "outputs": [
    {
     "name": "stdout",
     "output_type": "stream",
     "text": [
      "Created blank 'en' model\n",
      "Exception thrown when processing doc:\n",
      "(\"Neeraj Dwivedi\\nSenior Sales Executive - Kansai Nerolac Paints Ltd\\n\\nMumbai, Maharashtra - Email me on Indeed: indeed.com/r/Neeraj-Dwivedi/8f053ed44cdef8b2\\n\\nWORK EXPERIENCE\\n\\nSenior Sales Executive\\n\\nKansai Nerolac Paints Ltd -  Mumbai, Maharashtra -\\n\\nAugust 2017 to Present\\n\\nIncreased the sales from -22% to +6% through existing dealers and prospecting new dealers to\\nachieve the target within 6 months of joining.\\n• Maintaining excellent relations with dealers to increase revenue by 10%.\\n• Management of sales team (up to 3 members)\\n• Achieved monthly targets amounting to 40 - 60 lakhs monthly with timely collection.\\n• Maintain accounts clarity with dealers and ensure that the credit notes reach the dealers on\\ntime.\\n• Business development by conducting regular meetings with influencers such as architects,\\nbuilding contractors, housing societies, painters.\\n• Ensuring proper visibility of the products at various counters while also managing field\\ndevelopment using new sign boards and painter meets.\\n• Provide Briefing to the dealers about the new schemes and target products.\\n• Handling depot and ensuring the proper service and support to the market and at the same\\ntime handling the depot team of 14-15 members.\\n• Handled the entire western and south market of Mumbai ( From Churchgate to Dahanu)\\n• Presently handling two territories Vasai and Virar ( Mira Road To Dahanu)\\n• Developed the Bhayandar and Mira Road market which was almost dead for the company.\\n\\nSenior Sales Executive\\n\\nGreenPly Industries Ltd -  Mumbai, Maharashtra -\\n\\nAugust 2015 to August 2017\\n\\nBuilding the business within the territory using a variety of sales techniques.\\n• Targeting potential dealers and distributors and assessing opportunities for sales.\\n• Arranging potential dealers meetings and selling products offering.\\n• Team handling and Achieving Primary and secondary sales figures as well individually and along\\nwith team.\\n• Create and execute a territory sales and channel development plan that meets or exceeds\\nestablished sales quotas and supports Company revenue and profit targets.\\n• Complete sales activity reports and presentations in a timely manner. Appointed 150 dealers\\nand 3 distributors for wall-coverings imported by Greenply.\\n\\nArea Sales Manager\\n\\nGloob Décor Interior Design Pvt. Ltd -  Pune, Maharashtra -\\n\\nhttps://www.indeed.com/r/Neeraj-Dwivedi/8f053ed44cdef8b2?isid=rex-download&ikw=download-top&co=IN\\n\\n\\nJuly 2014 to July 2015\\n\\nMumbai, Rest of Maharashtra (Pune, Nashik, Kolhapur and more), Goa, Jaipur\\nArea Sales Manager (July 2014 - July 2015)\\n\\n• Planning and scheduling individual/ team assignments to achieve the pre set goals within\\ntime, quality and cost parameters. Formulating long term/short term strategic plans to enhance\\noperations.\\n• Tracking market/ competitor trends to keep a track regarding changing client's requirement/\\nexpectations.\\n• Dealer/ distributor channel visiting, handling channel sales team (up to 6 members) across\\nMaharashtra, Mumbai and Goa.\\n• Business development and Team Management.\\n• Developed the market for Pune, Kolhapur, Jaipur and appointed 2 franchisee stores and 3\\ndistributors (35-40 lakhs investment)\\n\\nInternship\\n\\nMumbai, Maharashtra -\\n\\nFebruary 2014 to May 2014\\n\\nProvided career counseling and vocational training to the students.\\n\\nProject Management\\n\\nAARK alliance -  Delhi, Delhi -\\n\\nMay 2013 to July 2013\\n\\nProject: Sales and Customer service of construction equipments\\n\\nEDUCATION\\n\\nMMS\\n\\nMaratha Mandir Babasaheb Gawde Institute of Management studies, mumbai\\n\\nSKILLS\\n\\nSALES (4 years), SALES AND (2 years), TEAM MANAGEMENT (1 year), AND MARKETING (Less\\nthan 1 year), BUSINESS MANAGEMENT (Less than 1 year)\\n\\nADDITIONAL INFORMATION\\n\\nCore Skills:\\n\\n• 4 years of experience in corporate sales and marketing.\\n• Planing, strategizing and implementing business growth, requirement analysis and technical\\nguidance for clients\\n• Interpersonal skills, business management, negotiation skills, team management, lead\\ngeneration, loyalty programs management\\n\\n\\n\\nSoft Skills:\\n\\n• SAP, CRM, MS word, MS excel, MS power point, Tally, ERP, Social Media.\",) ({'entities': [[4016, 4017, 'Name'], [4015, 4016, 'Name'], [4002, 4003, 'Name'], [4001, 4002, 'Name'], [4000, 4001, 'Name'], [3999, 4000, 'Name'], [3959, 3960, 'Name'], [3872, 3873, 'Name'], [3851, 3852, 'Name'], [3758, 3759, 'Name'], [3700, 3701, 'Name'], [3699, 3700, 'Name'], [3686, 3687, 'Name'], [3685, 3686, 'Name'], [3662, 3663, 'Name'], [3661, 3662, 'Name'], [3608, 3609, 'Name'], [3524, 3525, 'Name'], [3523, 3524, 'Name'], [3516, 3517, 'Name'], [3515, 3516, 'Name'], [3444, 3445, 'Name'], [3443, 3444, 'Name'], [3440, 3443, 'Degree'], [3439, 3440, 'Name'], [3438, 3439, 'Name'], [3428, 3429, 'Name'], [3427, 3428, 'Name'], [3364, 3365, 'Name'], [3363, 3364, 'Name'], [3341, 3342, 'Name'], [3340, 3341, 'Name'], [3308, 3309, 'Name'], [3307, 3308, 'Name'], [3288, 3289, 'Name'], [3287, 3288, 'Name'], [3219, 3220, 'Name'], [3218, 3219, 'Name'], [3192, 3193, 'Name'], [3191, 3192, 'Name'], [3169, 3170, 'Name'], [3168, 3169, 'Name'], [3157, 3158, 'Name'], [3156, 3157, 'Name'], [3118, 3119, 'Name'], [3028, 3029, 'Name'], [2984, 2985, 'Name'], [2955, 2956, 'Name'], [2862, 2863, 'Name'], [2848, 2849, 'Name'], [2754, 2755, 'Name'], [2742, 2743, 'Name'], [2647, 2648, 'Name'], [2556, 2557, 'Name'], [2555, 2556, 'Name'], [2512, 2513, 'Name'], [2437, 2438, 'Name'], [2436, 2437, 'Name'], [2413, 2414, 'Name'], [2412, 2413, 'Name'], [2411, 2412, 'Name'], [2313, 2314, 'Name'], [2312, 2313, 'Name'], [2253, 2289, 'Companies worked at'], [2252, 2253, 'Name'], [2251, 2252, 'Name'], [2232, 2233, 'Name'], [2231, 2232, 'Name'], [2171, 2172, 'Name'], [2077, 2078, 'Name'], [2003, 2004, 'Name'], [1913, 1914, 'Name'], [1902, 1903, 'Name'], [1805, 1806, 'Name'], [1735, 1736, 'Name'], [1649, 1650, 'Name'], [1569, 1570, 'Name'], [1568, 1569, 'Name'], [1541, 1542, 'Name'], [1540, 1541, 'Name'], [1492, 1515, 'Companies worked at'], [1491, 1492, 'Name'], [1490, 1491, 'Name'], [1467, 1468, 'Name'], [1466, 1467, 'Name'], [1380, 1381, 'Name'], [1304, 1305, 'Name'], [1219, 1220, 'Name'], [1172, 1173, 'Name'], [1081, 1082, 'Name'], [1004, 1005, 'Name'], [951, 952, 'Name'], [860, 861, 'Name'], [809, 810, 'Name'], [718, 719, 'Name'], [712, 713, 'Name'], [617, 618, 'Name'], [531, 532, 'Name'], [486, 487, 'Name'], [411, 412, 'Name'], [364, 365, 'Name'], [271, 272, 'Name'], [270, 271, 'Name'], [247, 248, 'Name'], [246, 247, 'Name'], [196, 221, 'Companies worked at'], [195, 196, 'Name'], [194, 195, 'Name'], [171, 172, 'Name'], [170, 171, 'Name'], [154, 155, 'Name'], [153, 154, 'Name'], [66, 67, 'Name'], [65, 66, 'Name'], [40, 66, 'Companies worked at'], [40, 65, 'Companies worked at'], [14, 15, 'Name'], [0, 14, 'Name']]},)\n",
      "Losses {'ner': 44789.630844130275}\n",
      "Unfiltered training data size:  560\n",
      "Filtered training data size:  559\n",
      "Bad data size:  1\n"
     ]
    }
   ],
   "source": [
    "from spacy_train_resume_ner import train_spacy_ner\n",
    "\n",
    "def remove_bad_data(training_data):\n",
    "    model, baddocs = train_spacy_ner(training_data, debug=True, n_iter=1)\n",
    "    ## training data is list of lists with each list containing a text and annotations\n",
    "    ## baddocs is a set of strings/resume texts.\n",
    "    ## TODO complete implementation to filter bad docs and store filter result (good docs) in filtered variable\n",
    "    filtered = [data for data in training_data if data[0] not in baddocs]\n",
    "    print(\"Unfiltered training data size: \",len(training_data))\n",
    "    print(\"Filtered training data size: \", len(filtered))\n",
    "    print(\"Bad data size: \", len(baddocs))\n",
    "    return filtered\n",
    "\n",
    "## call remove method. It may take a few minutes for the method to complete.\n",
    "## you will know it is complete when the print output above. \n",
    "X = remove_bad_data(training_data)"
   ]
  },
  {
   "cell_type": "markdown",
   "metadata": {},
   "source": [
    "##### Question: How many bad docs did you have? What is the size of your new (filtered) training data? \n",
    "Just one bad doc.\n",
    "The size is 559"
   ]
  },
  {
   "cell_type": "markdown",
   "metadata": {},
   "source": [
    "##### Train/Test Split\n",
    "Now before we train our model, we have to split our available training data into training and test sets. Splitting our data into train and test (or holdout) datasets is a fundamental technique in machine learning, and essential to avoid the problem of overfitting.\n",
    "Before we go on, you should get a grasp of how train/test split helps us avoid overfitting. Please take the time now to do a quick web search on the topic. There are many resources available. You should search for \"train test validation overfitting\" or some subset of those terms.\n",
    "\n",
    "Here are a few articles to start with:\n",
    "* https://machinelearningmastery.com/a-simple-intuition-for-overfitting/\n",
    "* https://scikit-learn.org/stable/modules/cross_validation.html#cross-validation (Note: you are free to install scikit learn and use the train_test_split method documented here, but it is not necessary. It is the concept that is important)\n",
    "\n",
    "##### Question: What is overfitting and how does doing a train/test split help us avoid overfitting when training our models? Please answer in your own words. \n",
    "when the model fit the data provided in training phase in such way that generate a big amount of bias when we use the model on other data. "
   ]
  },
  {
   "cell_type": "markdown",
   "metadata": {},
   "source": [
    "Now that we understand why we do a train/test split, we will write some code that splits our data into train and test sets. Usually we want around 70-80% of the data for train, and the rest for test. \n",
    "##### TODO: Complete the code below to create a train and test dataset"
   ]
  },
  {
   "cell_type": "code",
   "execution_count": 13,
   "metadata": {},
   "outputs": [],
   "source": [
    "##TODO complete the implementation  of the train test split function below\n",
    "from sklearn.model_selection import train_test_split\n",
    "## TODO chose train size percent and call train test split, storing results in \"train\" and \"test\" variables.\n",
    "train,test = train_test_split(X, test_size=0.20)\n",
    "## TODO use python assert to assert that the size of train and test sets add up to the size of all the data \n",
    "assert len(train) + len(test) == len(X)"
   ]
  },
  {
   "cell_type": "markdown",
   "metadata": {},
   "source": [
    "##### Train a spacy ner model with our training data\n",
    "OK, now it is (finally) time to train our own custom NER model using spacy. Because our training data has been preprocessed to only include annotations for the entities we are interested in, the model will only be able to predict/extract those entities. \n",
    "*Depending on your computer, this step may take a while.* Training 20 epochs (iterations) using 480 training examples takes around 10 minutes on my machine (core i7 CPU). You will see output like *Losses {'ner':2342.23342342}* after each epoch/iteration. The default number of iterations is 20, so you will see this output 20 times. When this step is done, we will use the trained ner model to perform predictions on our test data in our test set.  "
   ]
  },
  {
   "cell_type": "code",
   "execution_count": 14,
   "metadata": {},
   "outputs": [
    {
     "name": "stdout",
     "output_type": "stream",
     "text": [
      "Created blank 'en' model\n",
      "Losses {'ner': 31513.902025726202}\n",
      "Losses {'ner': 31575.179004938487}\n",
      "Losses {'ner': 34592.16721692965}\n",
      "Losses {'ner': 32170.18650860223}\n",
      "Losses {'ner': 31618.599995860946}\n",
      "Losses {'ner': 29235.028641246823}\n",
      "Losses {'ner': 38210.04297048364}\n",
      "Losses {'ner': 19330.94359249965}\n",
      "Losses {'ner': 6773.520552361799}\n",
      "Losses {'ner': 7342.400287367322}\n",
      "Losses {'ner': 5737.908540177597}\n",
      "Losses {'ner': 6017.940510004024}\n",
      "Losses {'ner': 5161.601522376947}\n",
      "Losses {'ner': 8244.134018287572}\n",
      "Losses {'ner': 5836.783466333511}\n",
      "Losses {'ner': 6321.758023662678}\n",
      "Losses {'ner': 3687.7879184904555}\n",
      "Losses {'ner': 4264.082984319843}\n",
      "Losses {'ner': 3080.0613154434404}\n",
      "Losses {'ner': 3717.232522182456}\n"
     ]
    }
   ],
   "source": [
    "## run this code to train a ner model using spacy\n",
    "custom_nlp,_= train_spacy_ner(train,n_iter=20)"
   ]
  },
  {
   "cell_type": "markdown",
   "metadata": {},
   "source": [
    "##### Inspect NER predictions on one sample resume\n",
    "Now that we have a trained model, let's see how it works on one of our resumes. "
   ]
  },
  {
   "cell_type": "code",
   "execution_count": 15,
   "metadata": {},
   "outputs": [],
   "source": [
    "## TODO fetch one resume out of our test dataset and store to the \"resume\" variable\n",
    "resume = test[21]\n",
    "## TODO create a spacy doc out of the resume using our trained model and save to the \"doc\" variable \n",
    "doc = custom_nlp(resume[0])"
   ]
  },
  {
   "cell_type": "markdown",
   "metadata": {},
   "source": [
    "Now we will output the predicted entities and the existing annotated entities in that doc"
   ]
  },
  {
   "cell_type": "code",
   "execution_count": 16,
   "metadata": {},
   "outputs": [
    {
     "name": "stdout",
     "output_type": "stream",
     "text": [
      "PREDICTED:\n",
      "Name Shiksha Bhatnagar\n",
      "Degree pass 12 in medical\n",
      "\n",
      "LABELED:\n",
      "Companies worked at Microsoft \n",
      "Degree pass 12 in medical\n",
      "Companies worked at Microsoft \n",
      "Name Shiksha Bhatnagar\n"
     ]
    }
   ],
   "source": [
    "## TODO output label and text of predicted entities (in \"ents\" variable of the spacy doc created above)\n",
    "print(\"PREDICTED:\")\n",
    "for ent in doc.ents:\n",
    "    print(ent.label_, ent)\n",
    "    \n",
    "## TODO output labeled entities (in \"entities\" dictionary of resume)\n",
    "print(\"\\nLABELED:\")\n",
    "for ent in resume[1]['entities']:\n",
    "    label = ent[2]\n",
    "    start = ent[0]\n",
    "    end = ent[1]\n",
    "    print(label, resume[0][start:end])"
   ]
  },
  {
   "cell_type": "markdown",
   "metadata": {},
   "source": [
    "#### Evaluation Metrics for NER\n",
    "Now that we can predict entities using our trained model, we can compare our predictions with the original annotations in our training data to evaluate how well our model performs for our task. The original annotations have been annotated manually by human annotators, and represent a \"Gold Standard\" against which we can compare our predictions. \n",
    "\n",
    "For most classification tasks, the most common evaluation metrics are:\n",
    "* accuracy\n",
    "* precision\n",
    "* recall\n",
    "* f1 score\n",
    "\n",
    "In order to understand these metrics, we need to understand the following concepts:\n",
    "* True positives - How many of the predicted entities are \"true\" according to the Gold Standard? (training annotation) \n",
    "* True negatives - How many entities did the model not predict which are actually not entities according to the Gold Standard?\n",
    "* False positives - How many entities did the model predict which are NOT entities according to the Gold Standard?  \n",
    "* False negatives - How many entities did the model \"miss\" - e.g. did not recognize as entities which are entities according to the Gold Standard? \n",
    "\n",
    "Before we go on, it is important that you understand true/false positives/negatives as well as the evaluation metrics above. Take some time now to research the web in order to find answers to the following questions:\n",
    "\n",
    "##### Question: How are the evaluation metrics above defined in the context of evaluating Machine Learning models? How do they relate to True/False Positives/Negatives above? Please provide an intuitive description as well as the mathmatical formula for each metric. \n",
    "F1 Score is used to measure a test's accuracy\n",
    "F1 Score: A combination of Precision and Recall\n",
    "          (2 * Precision * Recall) / (Precision + Recall)\n",
    "precision: The approach here is to find what percentage of the model’s positive (1’s) predictions are accurate\n",
    "           What percentage of predicted 1's are correct?\n",
    "           True positives/(True positives + False positives)\n",
    "Recall: percentage of ALL positive (1’s) were covered.\n",
    "        What percentage of all 1's were correctly predicted?\n",
    "        True positives/(True positives + False negatives)"
   ]
  },
  {
   "cell_type": "markdown",
   "metadata": {},
   "source": [
    "##### Calculating Metrics based on token-level annotations or full entity-level. \n",
    "The concepts above are our first step toward understanding how to evaluate our model effectively. However, in NER, we need to take into account that we can calculate our metrics either based on all tokens (words) found in the document, or only on the entities found in the document.  \n",
    "\n",
    "##### Token-Level evaluation. \n",
    "Token level evaluation evaluates how accurately did the model tag *each individual word/token* in the input. In order to understand this, we need to understand something called the \"BILUO\" Scheme (or BILOU or BIO). The spacy docs have a good reference. Please read and familiarize yourself with BILUO. \n",
    "\n",
    "https://spacy.io/api/annotation#biluo\n",
    "\n",
    "Up to now, we have not been working with the BILUO scheme, but with \"offsets\" (for example: (112,150,\"Email\") - which says there is an \"Email\" entity between positions 112 and 150 in the text). We would like to be able to evaluate our models on a token-level using BILUO - so we need to convert our data to BILUO. Fortunately, Spacy provides a helper method to do this for us.\n",
    "\n",
    "*Execute the code below to see how our \"Gold Standard\" and predictions for our example doc above look in BILUO scheme.* \n",
    "Note: some of the lines might be ommited for display purposes. "
   ]
  },
  {
   "cell_type": "code",
   "execution_count": 17,
   "metadata": {},
   "outputs": [
    {
     "data": {
      "text/html": [
       "<div>\n",
       "<style scoped>\n",
       "    .dataframe tbody tr th:only-of-type {\n",
       "        vertical-align: middle;\n",
       "    }\n",
       "\n",
       "    .dataframe tbody tr th {\n",
       "        vertical-align: top;\n",
       "    }\n",
       "\n",
       "    .dataframe thead th {\n",
       "        text-align: right;\n",
       "    }\n",
       "</style>\n",
       "<table border=\"1\" class=\"dataframe\">\n",
       "  <thead>\n",
       "    <tr style=\"text-align: right;\">\n",
       "      <th></th>\n",
       "      <th>Tokens</th>\n",
       "      <th>Predicted</th>\n",
       "      <th>True</th>\n",
       "    </tr>\n",
       "  </thead>\n",
       "  <tbody>\n",
       "    <tr>\n",
       "      <th>0</th>\n",
       "      <td>Nidhi</td>\n",
       "      <td>B-Name</td>\n",
       "      <td>B-Name</td>\n",
       "    </tr>\n",
       "    <tr>\n",
       "      <th>1</th>\n",
       "      <td>Pandit</td>\n",
       "      <td>L-Name</td>\n",
       "      <td>L-Name</td>\n",
       "    </tr>\n",
       "    <tr>\n",
       "      <th>2</th>\n",
       "      <td></td>\n",
       "      <td>O</td>\n",
       "      <td>O</td>\n",
       "    </tr>\n",
       "    <tr>\n",
       "      <th>3</th>\n",
       "      <td>Test</td>\n",
       "      <td>O</td>\n",
       "      <td>O</td>\n",
       "    </tr>\n",
       "    <tr>\n",
       "      <th>4</th>\n",
       "      <td>Engineer</td>\n",
       "      <td>O</td>\n",
       "      <td>O</td>\n",
       "    </tr>\n",
       "    <tr>\n",
       "      <th>5</th>\n",
       "      <td>-</td>\n",
       "      <td>O</td>\n",
       "      <td>O</td>\n",
       "    </tr>\n",
       "    <tr>\n",
       "      <th>6</th>\n",
       "      <td>Infosys</td>\n",
       "      <td>B-Companies worked at</td>\n",
       "      <td>-</td>\n",
       "    </tr>\n",
       "    <tr>\n",
       "      <th>7</th>\n",
       "      <td>Limited</td>\n",
       "      <td>L-Companies worked at</td>\n",
       "      <td>-</td>\n",
       "    </tr>\n",
       "    <tr>\n",
       "      <th>8</th>\n",
       "      <td></td>\n",
       "      <td>O</td>\n",
       "      <td>-</td>\n",
       "    </tr>\n",
       "    <tr>\n",
       "      <th>9</th>\n",
       "      <td>-</td>\n",
       "      <td>O</td>\n",
       "      <td>O</td>\n",
       "    </tr>\n",
       "    <tr>\n",
       "      <th>10</th>\n",
       "      <td>Email</td>\n",
       "      <td>O</td>\n",
       "      <td>O</td>\n",
       "    </tr>\n",
       "    <tr>\n",
       "      <th>11</th>\n",
       "      <td>me</td>\n",
       "      <td>O</td>\n",
       "      <td>O</td>\n",
       "    </tr>\n",
       "    <tr>\n",
       "      <th>12</th>\n",
       "      <td>on</td>\n",
       "      <td>O</td>\n",
       "      <td>O</td>\n",
       "    </tr>\n",
       "    <tr>\n",
       "      <th>13</th>\n",
       "      <td>Indeed</td>\n",
       "      <td>O</td>\n",
       "      <td>O</td>\n",
       "    </tr>\n",
       "    <tr>\n",
       "      <th>14</th>\n",
       "      <td>:</td>\n",
       "      <td>O</td>\n",
       "      <td>O</td>\n",
       "    </tr>\n",
       "    <tr>\n",
       "      <th>15</th>\n",
       "      <td>indeed.com/r/Nidhi-Pandit/b4b383dbe14789c5</td>\n",
       "      <td>O</td>\n",
       "      <td>O</td>\n",
       "    </tr>\n",
       "    <tr>\n",
       "      <th>16</th>\n",
       "      <td></td>\n",
       "      <td>O</td>\n",
       "      <td>O</td>\n",
       "    </tr>\n",
       "    <tr>\n",
       "      <th>17</th>\n",
       "      <td>Overall</td>\n",
       "      <td>O</td>\n",
       "      <td>O</td>\n",
       "    </tr>\n",
       "    <tr>\n",
       "      <th>18</th>\n",
       "      <td>around</td>\n",
       "      <td>O</td>\n",
       "      <td>O</td>\n",
       "    </tr>\n",
       "    <tr>\n",
       "      <th>19</th>\n",
       "      <td>4</td>\n",
       "      <td>O</td>\n",
       "      <td>O</td>\n",
       "    </tr>\n",
       "    <tr>\n",
       "      <th>20</th>\n",
       "      <td>years</td>\n",
       "      <td>O</td>\n",
       "      <td>O</td>\n",
       "    </tr>\n",
       "    <tr>\n",
       "      <th>21</th>\n",
       "      <td>of</td>\n",
       "      <td>O</td>\n",
       "      <td>O</td>\n",
       "    </tr>\n",
       "    <tr>\n",
       "      <th>22</th>\n",
       "      <td>work</td>\n",
       "      <td>O</td>\n",
       "      <td>O</td>\n",
       "    </tr>\n",
       "    <tr>\n",
       "      <th>23</th>\n",
       "      <td>experience</td>\n",
       "      <td>O</td>\n",
       "      <td>O</td>\n",
       "    </tr>\n",
       "    <tr>\n",
       "      <th>24</th>\n",
       "      <td>-</td>\n",
       "      <td>O</td>\n",
       "      <td>O</td>\n",
       "    </tr>\n",
       "    <tr>\n",
       "      <th>25</th>\n",
       "      <td>Currently</td>\n",
       "      <td>O</td>\n",
       "      <td>O</td>\n",
       "    </tr>\n",
       "    <tr>\n",
       "      <th>26</th>\n",
       "      <td>working</td>\n",
       "      <td>O</td>\n",
       "      <td>O</td>\n",
       "    </tr>\n",
       "    <tr>\n",
       "      <th>27</th>\n",
       "      <td>with</td>\n",
       "      <td>O</td>\n",
       "      <td>O</td>\n",
       "    </tr>\n",
       "    <tr>\n",
       "      <th>28</th>\n",
       "      <td>Infosys</td>\n",
       "      <td>O</td>\n",
       "      <td>O</td>\n",
       "    </tr>\n",
       "    <tr>\n",
       "      <th>29</th>\n",
       "      <td>Limited</td>\n",
       "      <td>O</td>\n",
       "      <td>O</td>\n",
       "    </tr>\n",
       "    <tr>\n",
       "      <th>...</th>\n",
       "      <td>...</td>\n",
       "      <td>...</td>\n",
       "      <td>...</td>\n",
       "    </tr>\n",
       "    <tr>\n",
       "      <th>657</th>\n",
       "      <td>-</td>\n",
       "      <td>O</td>\n",
       "      <td>O</td>\n",
       "    </tr>\n",
       "    <tr>\n",
       "      <th>658</th>\n",
       "      <td>ALM</td>\n",
       "      <td>O</td>\n",
       "      <td>O</td>\n",
       "    </tr>\n",
       "    <tr>\n",
       "      <th>659</th>\n",
       "      <td>(</td>\n",
       "      <td>O</td>\n",
       "      <td>O</td>\n",
       "    </tr>\n",
       "    <tr>\n",
       "      <th>660</th>\n",
       "      <td>QC</td>\n",
       "      <td>O</td>\n",
       "      <td>O</td>\n",
       "    </tr>\n",
       "    <tr>\n",
       "      <th>661</th>\n",
       "      <td>)</td>\n",
       "      <td>O</td>\n",
       "      <td>O</td>\n",
       "    </tr>\n",
       "    <tr>\n",
       "      <th>662</th>\n",
       "      <td></td>\n",
       "      <td>O</td>\n",
       "      <td>O</td>\n",
       "    </tr>\n",
       "    <tr>\n",
       "      <th>663</th>\n",
       "      <td>Test</td>\n",
       "      <td>O</td>\n",
       "      <td>O</td>\n",
       "    </tr>\n",
       "    <tr>\n",
       "      <th>664</th>\n",
       "      <td>Management</td>\n",
       "      <td>O</td>\n",
       "      <td>O</td>\n",
       "    </tr>\n",
       "    <tr>\n",
       "      <th>665</th>\n",
       "      <td>Tools</td>\n",
       "      <td>O</td>\n",
       "      <td>O</td>\n",
       "    </tr>\n",
       "    <tr>\n",
       "      <th>666</th>\n",
       "      <td>:</td>\n",
       "      <td>O</td>\n",
       "      <td>O</td>\n",
       "    </tr>\n",
       "    <tr>\n",
       "      <th>667</th>\n",
       "      <td>-JIRA</td>\n",
       "      <td>O</td>\n",
       "      <td>O</td>\n",
       "    </tr>\n",
       "    <tr>\n",
       "      <th>668</th>\n",
       "      <td>,</td>\n",
       "      <td>O</td>\n",
       "      <td>O</td>\n",
       "    </tr>\n",
       "    <tr>\n",
       "      <th>669</th>\n",
       "      <td>Quality</td>\n",
       "      <td>O</td>\n",
       "      <td>O</td>\n",
       "    </tr>\n",
       "    <tr>\n",
       "      <th>670</th>\n",
       "      <td>Center</td>\n",
       "      <td>O</td>\n",
       "      <td>O</td>\n",
       "    </tr>\n",
       "    <tr>\n",
       "      <th>671</th>\n",
       "      <td></td>\n",
       "      <td>O</td>\n",
       "      <td>O</td>\n",
       "    </tr>\n",
       "    <tr>\n",
       "      <th>672</th>\n",
       "      <td>Other</td>\n",
       "      <td>O</td>\n",
       "      <td>O</td>\n",
       "    </tr>\n",
       "    <tr>\n",
       "      <th>673</th>\n",
       "      <td>Tools</td>\n",
       "      <td>O</td>\n",
       "      <td>O</td>\n",
       "    </tr>\n",
       "    <tr>\n",
       "      <th>674</th>\n",
       "      <td>:</td>\n",
       "      <td>O</td>\n",
       "      <td>O</td>\n",
       "    </tr>\n",
       "    <tr>\n",
       "      <th>675</th>\n",
       "      <td>-SQL</td>\n",
       "      <td>O</td>\n",
       "      <td>O</td>\n",
       "    </tr>\n",
       "    <tr>\n",
       "      <th>676</th>\n",
       "      <td>Developer</td>\n",
       "      <td>O</td>\n",
       "      <td>O</td>\n",
       "    </tr>\n",
       "    <tr>\n",
       "      <th>677</th>\n",
       "      <td>,</td>\n",
       "      <td>O</td>\n",
       "      <td>O</td>\n",
       "    </tr>\n",
       "    <tr>\n",
       "      <th>678</th>\n",
       "      <td>TOAD</td>\n",
       "      <td>O</td>\n",
       "      <td>O</td>\n",
       "    </tr>\n",
       "    <tr>\n",
       "      <th>679</th>\n",
       "      <td>.</td>\n",
       "      <td>O</td>\n",
       "      <td>O</td>\n",
       "    </tr>\n",
       "    <tr>\n",
       "      <th>680</th>\n",
       "      <td></td>\n",
       "      <td>O</td>\n",
       "      <td>O</td>\n",
       "    </tr>\n",
       "    <tr>\n",
       "      <th>681</th>\n",
       "      <td>Database</td>\n",
       "      <td>O</td>\n",
       "      <td>O</td>\n",
       "    </tr>\n",
       "    <tr>\n",
       "      <th>682</th>\n",
       "      <td>:</td>\n",
       "      <td>O</td>\n",
       "      <td>O</td>\n",
       "    </tr>\n",
       "    <tr>\n",
       "      <th>683</th>\n",
       "      <td>-</td>\n",
       "      <td>O</td>\n",
       "      <td>O</td>\n",
       "    </tr>\n",
       "    <tr>\n",
       "      <th>684</th>\n",
       "      <td>DB2</td>\n",
       "      <td>O</td>\n",
       "      <td>O</td>\n",
       "    </tr>\n",
       "    <tr>\n",
       "      <th>685</th>\n",
       "      <td>,</td>\n",
       "      <td>O</td>\n",
       "      <td>O</td>\n",
       "    </tr>\n",
       "    <tr>\n",
       "      <th>686</th>\n",
       "      <td>SQL</td>\n",
       "      <td>O</td>\n",
       "      <td>O</td>\n",
       "    </tr>\n",
       "  </tbody>\n",
       "</table>\n",
       "<p>687 rows × 3 columns</p>\n",
       "</div>"
      ],
      "text/plain": [
       "                                         Tokens              Predicted    True\n",
       "0                                         Nidhi                 B-Name  B-Name\n",
       "1                                        Pandit                 L-Name  L-Name\n",
       "2                                                                    O       O\n",
       "3                                          Test                      O       O\n",
       "4                                      Engineer                      O       O\n",
       "5                                             -                      O       O\n",
       "6                                       Infosys  B-Companies worked at       -\n",
       "7                                       Limited  L-Companies worked at       -\n",
       "8                                                                    O       -\n",
       "9                                             -                      O       O\n",
       "10                                        Email                      O       O\n",
       "11                                           me                      O       O\n",
       "12                                           on                      O       O\n",
       "13                                       Indeed                      O       O\n",
       "14                                            :                      O       O\n",
       "15   indeed.com/r/Nidhi-Pandit/b4b383dbe14789c5                      O       O\n",
       "16                                                                   O       O\n",
       "17                                      Overall                      O       O\n",
       "18                                       around                      O       O\n",
       "19                                            4                      O       O\n",
       "20                                        years                      O       O\n",
       "21                                           of                      O       O\n",
       "22                                         work                      O       O\n",
       "23                                   experience                      O       O\n",
       "24                                            -                      O       O\n",
       "25                                    Currently                      O       O\n",
       "26                                      working                      O       O\n",
       "27                                         with                      O       O\n",
       "28                                      Infosys                      O       O\n",
       "29                                      Limited                      O       O\n",
       "..                                          ...                    ...     ...\n",
       "657                                           -                      O       O\n",
       "658                                         ALM                      O       O\n",
       "659                                           (                      O       O\n",
       "660                                          QC                      O       O\n",
       "661                                           )                      O       O\n",
       "662                                                                  O       O\n",
       "663                                        Test                      O       O\n",
       "664                                  Management                      O       O\n",
       "665                                       Tools                      O       O\n",
       "666                                           :                      O       O\n",
       "667                                       -JIRA                      O       O\n",
       "668                                           ,                      O       O\n",
       "669                                     Quality                      O       O\n",
       "670                                      Center                      O       O\n",
       "671                                                                  O       O\n",
       "672                                       Other                      O       O\n",
       "673                                       Tools                      O       O\n",
       "674                                           :                      O       O\n",
       "675                                        -SQL                      O       O\n",
       "676                                   Developer                      O       O\n",
       "677                                           ,                      O       O\n",
       "678                                        TOAD                      O       O\n",
       "679                                           .                      O       O\n",
       "680                                                                  O       O\n",
       "681                                    Database                      O       O\n",
       "682                                           :                      O       O\n",
       "683                                           -                      O       O\n",
       "684                                         DB2                      O       O\n",
       "685                                           ,                      O       O\n",
       "686                                         SQL                      O       O\n",
       "\n",
       "[687 rows x 3 columns]"
      ]
     },
     "metadata": {},
     "output_type": "display_data"
    }
   ],
   "source": [
    "from spacy.gold import biluo_tags_from_offsets\n",
    "import pandas as pd\n",
    "from IPython.display import display, HTML\n",
    "\n",
    "## returns a pandas dataframe with tokens, prediction, and true (Gold Standard) annotations of tokens\n",
    "def make_bilou_df(nlp,resume):\n",
    "    \"\"\"\n",
    "    param nlp - a trained spacy model\n",
    "    param resume - a resume from our train or test set\n",
    "    \"\"\"\n",
    "    doc = nlp(resume[0])\n",
    "    bilou_ents_predicted = biluo_tags_from_offsets(doc, [(ent.start_char,ent.end_char,ent.label_)for ent in doc.ents])\n",
    "    bilou_ents_true = biluo_tags_from_offsets(doc,\n",
    "                                                   [(ent[0], ent[1], ent[2]) for ent in resume[1][\"entities\"]])\n",
    "\n",
    "    \n",
    "    doc_tokens = [tok.text for tok in doc]\n",
    "    bilou_df = pd.DataFrame()\n",
    "    bilou_df[\"Tokens\"] =doc_tokens\n",
    "    bilou_df[\"Tokens\"] = bilou_df[\"Tokens\"].str.replace(\"\\\\s+\",\"\") \n",
    "    bilou_df[\"Predicted\"] = bilou_ents_predicted\n",
    "    bilou_df[\"True\"] = bilou_ents_true\n",
    "    return bilou_df\n",
    "\n",
    "## TODO call method above with a resume from test set and store result in bilou_df variable.\n",
    "bilou_df = make_bilou_df(custom_nlp, test[1])\n",
    "display(bilou_df)  "
   ]
  },
  {
   "cell_type": "markdown",
   "metadata": {},
   "source": [
    "Based on this output, it should be very easy to calculate a token-level accuracy. We simply compare the \"Predicted\" to \"True\" columns and calculate what percentage are the same. "
   ]
  },
  {
   "cell_type": "code",
   "execution_count": 18,
   "metadata": {},
   "outputs": [
    {
     "name": "stdout",
     "output_type": "stream",
     "text": [
      "Accuracy on one resume:  0.9868995633187773\n"
     ]
    }
   ],
   "source": [
    "## TODO bilou_df is a pandas dataframe. Use pandas dataframe api to get a subset where predicted and true are the same. \n",
    "same_df = bilou_df[bilou_df['Predicted'] == bilou_df['True']]\n",
    "## accuracy is the length of this subset divided by the length of bilou_df\n",
    "accuracy =same_df.shape[0] / bilou_df.shape[0] \n",
    "print(\"Accuracy on one resume: \",accuracy)"
   ]
  },
  {
   "cell_type": "markdown",
   "metadata": {},
   "source": [
    "The accuracy might seem pretty good... if it is not 100%, then let's print out those tokens where the model predicted something different than the gold standard by running the code below. \n",
    "\n",
    "Note - if your score on one doc is 100%, pick another document and re-run the last few cells above. "
   ]
  },
  {
   "cell_type": "code",
   "execution_count": 27,
   "metadata": {},
   "outputs": [
    {
     "data": {
      "text/html": [
       "<div>\n",
       "<style scoped>\n",
       "    .dataframe tbody tr th:only-of-type {\n",
       "        vertical-align: middle;\n",
       "    }\n",
       "\n",
       "    .dataframe tbody tr th {\n",
       "        vertical-align: top;\n",
       "    }\n",
       "\n",
       "    .dataframe thead th {\n",
       "        text-align: right;\n",
       "    }\n",
       "</style>\n",
       "<table border=\"1\" class=\"dataframe\">\n",
       "  <thead>\n",
       "    <tr style=\"text-align: right;\">\n",
       "      <th></th>\n",
       "      <th>Tokens</th>\n",
       "      <th>Predicted</th>\n",
       "      <th>True</th>\n",
       "    </tr>\n",
       "  </thead>\n",
       "  <tbody>\n",
       "    <tr>\n",
       "      <th>6</th>\n",
       "      <td>Infosys</td>\n",
       "      <td>B-Companies worked at</td>\n",
       "      <td>-</td>\n",
       "    </tr>\n",
       "    <tr>\n",
       "      <th>7</th>\n",
       "      <td>Limited</td>\n",
       "      <td>L-Companies worked at</td>\n",
       "      <td>-</td>\n",
       "    </tr>\n",
       "    <tr>\n",
       "      <th>8</th>\n",
       "      <td></td>\n",
       "      <td>O</td>\n",
       "      <td>-</td>\n",
       "    </tr>\n",
       "    <tr>\n",
       "      <th>56</th>\n",
       "      <td>Infosys</td>\n",
       "      <td>B-Companies worked at</td>\n",
       "      <td>O</td>\n",
       "    </tr>\n",
       "    <tr>\n",
       "      <th>57</th>\n",
       "      <td>Limited</td>\n",
       "      <td>L-Companies worked at</td>\n",
       "      <td>O</td>\n",
       "    </tr>\n",
       "    <tr>\n",
       "      <th>285</th>\n",
       "      <td>Infosys</td>\n",
       "      <td>B-Companies worked at</td>\n",
       "      <td>O</td>\n",
       "    </tr>\n",
       "    <tr>\n",
       "      <th>286</th>\n",
       "      <td>Limited</td>\n",
       "      <td>L-Companies worked at</td>\n",
       "      <td>O</td>\n",
       "    </tr>\n",
       "    <tr>\n",
       "      <th>297</th>\n",
       "      <td>Infosys</td>\n",
       "      <td>B-Companies worked at</td>\n",
       "      <td>O</td>\n",
       "    </tr>\n",
       "    <tr>\n",
       "      <th>298</th>\n",
       "      <td>Limited</td>\n",
       "      <td>L-Companies worked at</td>\n",
       "      <td>O</td>\n",
       "    </tr>\n",
       "  </tbody>\n",
       "</table>\n",
       "</div>"
      ],
      "text/plain": [
       "      Tokens              Predicted True\n",
       "6    Infosys  B-Companies worked at    -\n",
       "7    Limited  L-Companies worked at    -\n",
       "8                                 O    -\n",
       "56   Infosys  B-Companies worked at    O\n",
       "57   Limited  L-Companies worked at    O\n",
       "285  Infosys  B-Companies worked at    O\n",
       "286  Limited  L-Companies worked at    O\n",
       "297  Infosys  B-Companies worked at    O\n",
       "298  Limited  L-Companies worked at    O"
      ]
     },
     "metadata": {},
     "output_type": "display_data"
    }
   ],
   "source": [
    "## TODO find all rows in bilou_df where \"Predicted\" not equal to \"True\" column. \n",
    "diff_df = bilou_df[bilou_df['Predicted'] != bilou_df['True']]\n",
    "display(diff_df)"
   ]
  },
  {
   "cell_type": "markdown",
   "metadata": {},
   "source": [
    "Now let's calculate the accuracy on all our test resumes and average them for an accuracy score. \n",
    "\n",
    "Please complete the code below to report an accuracy score on our test resumes"
   ]
  },
  {
   "cell_type": "code",
   "execution_count": 20,
   "metadata": {},
   "outputs": [
    {
     "name": "stdout",
     "output_type": "stream",
     "text": [
      "Accuracy:  0.9868995633187756\n"
     ]
    }
   ],
   "source": [
    "import numpy as np\n",
    "doc_accuracy = []\n",
    "for res in test:\n",
    "    ## TODO calculate accurac for each 'res' and append to doc_accuracy list \n",
    "    same_df = bilou_df[bilou_df['Predicted'] == bilou_df['True']]\n",
    "    accuracy = same_df.shape[0] / bilou_df.shape[0]\n",
    "    doc_accuracy.append(accuracy)\n",
    "\n",
    "## TODO calculate mean/average of doc_accuracy (Tip: use numpy!)\n",
    "total_acc = sum(doc_accuracy) / len(test)\n",
    "print(\"Accuracy: \",total_acc)"
   ]
  },
  {
   "cell_type": "markdown",
   "metadata": {},
   "source": [
    "##### Question: how does the model perform on token-level accuracy? What did it miss? In those cases where the predictions didn't match the gold standard, were the predictions plausible or just \"spurious\" (wrong)? \n",
    "The perfomance is nearly perfect. it miss something in Degree label most the time. i think the predictions were plausible"
   ]
  },
  {
   "cell_type": "markdown",
   "metadata": {},
   "source": [
    "##### Question: What might the advantages and disadvantages be of calculating accuracy on token-level? Hint: think about a document with 1000 tokens where only 10 tokens are annotated as entities. What might the accuracy be on such a document?\n"
   ]
  },
  {
   "cell_type": "markdown",
   "metadata": {},
   "source": [
    "##### Entity-Level evaluation #####\n",
    "Another method of evaluating the performance of our NER model is to calculate metrics not on token-level, but on entity level. There is a good blog article that describes this method. \n",
    "\n",
    "http://www.davidsbatista.net/blog/2018/05/09/Named_Entity_Evaluation/\n",
    "\n",
    "The article goes into some detail, the most important part is the scenarios described in the section \"Comparing NER system output and golden standard\". "
   ]
  },
  {
   "cell_type": "markdown",
   "metadata": {},
   "source": [
    "##### Question: how do the first 3 scenarios described in the section \"Comparing NER system output and golden standard\" correlate to  true/false positives/negatives? \n",
    "Surface string and entity type match\n",
    "true postivies true negatives\n",
    "\n",
    "System hypothesized an entity\n",
    "true postivies false positives\n",
    "\n",
    "System misses an entity\n",
    "true negatives false negatives\n"
   ]
  },
  {
   "cell_type": "markdown",
   "metadata": {},
   "source": [
    "##### Precision, Recall, F1 #####"
   ]
  },
  {
   "cell_type": "markdown",
   "metadata": {},
   "source": [
    "Now we would like to calculate precision, recall, and f1 for each entity type we are interested in (our chosen entities). To do this, we need to understand the formulas for each. A good article for this is https://skymind.ai/wiki/accuracy-precision-recall-f1. "
   ]
  },
  {
   "cell_type": "markdown",
   "metadata": {},
   "source": [
    "##### Question: how can we calculate precision, recall and f1 score based on the information above? Please provide the formulas for each #####\n",
    "System hypothesized an entity:\n",
    "precision = true positives / (true positives + false positives)\n",
    "\n",
    "System misses an entity\n",
    "recall = true posititves / (true positives + false negatives)\n",
    "\n",
    "f1 score = 2 * ( (precision * recall) / (precision + recall) )"
   ]
  },
  {
   "cell_type": "markdown",
   "metadata": {},
   "source": [
    "Now supply code below which calculates precision and recall and F1 on our test data for each entity type we are interested in. \n",
    "\n"
   ]
  },
  {
   "cell_type": "code",
   "execution_count": 21,
   "metadata": {},
   "outputs": [
    {
     "name": "stdout",
     "output_type": "stream",
     "text": [
      "For label 'Name' tp: 229 fp: 2 fn: 14\n",
      "Precision:  0.9913419913419913\n",
      "Recall:  0.9423868312757202\n",
      "F1:  0.9662447257383966\n",
      "For label 'Companies worked at' tp: 1004 fp: 473 fn: 223\n",
      "Precision:  0.6797562626946513\n",
      "Recall:  0.8182559087204564\n",
      "F1:  0.742603550295858\n",
      "For label 'Degree' tp: 374 fp: 227 fn: 69\n",
      "Precision:  0.6222961730449251\n",
      "Recall:  0.8442437923250564\n",
      "F1:  0.7164750957854407\n"
     ]
    },
    {
     "data": {
      "text/html": [
       "<div>\n",
       "<style scoped>\n",
       "    .dataframe tbody tr th:only-of-type {\n",
       "        vertical-align: middle;\n",
       "    }\n",
       "\n",
       "    .dataframe tbody tr th {\n",
       "        vertical-align: top;\n",
       "    }\n",
       "\n",
       "    .dataframe thead th {\n",
       "        text-align: right;\n",
       "    }\n",
       "</style>\n",
       "<table border=\"1\" class=\"dataframe\">\n",
       "  <thead>\n",
       "    <tr style=\"text-align: right;\">\n",
       "      <th></th>\n",
       "      <th>Precision</th>\n",
       "      <th>Recall</th>\n",
       "      <th>F1</th>\n",
       "    </tr>\n",
       "  </thead>\n",
       "  <tbody>\n",
       "    <tr>\n",
       "      <th>Name</th>\n",
       "      <td>0.991342</td>\n",
       "      <td>0.942387</td>\n",
       "      <td>0.966245</td>\n",
       "    </tr>\n",
       "    <tr>\n",
       "      <th>Companies worked at</th>\n",
       "      <td>0.679756</td>\n",
       "      <td>0.818256</td>\n",
       "      <td>0.742604</td>\n",
       "    </tr>\n",
       "    <tr>\n",
       "      <th>Degree</th>\n",
       "      <td>0.622296</td>\n",
       "      <td>0.844244</td>\n",
       "      <td>0.716475</td>\n",
       "    </tr>\n",
       "  </tbody>\n",
       "</table>\n",
       "</div>"
      ],
      "text/plain": [
       "                     Precision    Recall        F1\n",
       "Name                  0.991342  0.942387  0.966245\n",
       "Companies worked at   0.679756  0.818256  0.742604\n",
       "Degree                0.622296  0.844244  0.716475"
      ]
     },
     "metadata": {},
     "output_type": "display_data"
    }
   ],
   "source": [
    "## TODO cycle through chosen_entity_labels and calculate metrics for each entity using test data\n",
    "data = []\n",
    "for label in chosen_entity_labels:\n",
    "    ## variables to store results for all resumes for one entity type\n",
    "    true_positives = 0\n",
    "    false_positives = 0\n",
    "    false_negatives = 0\n",
    "    for tres in test:\n",
    "        ## use make_bilou_df on each resume in our test set, and calculate for each entity true and false positives,\n",
    "        ## and false negatives. \n",
    "        tres_df = make_bilou_df(custom_nlp, tres)\n",
    "        same_df = tres_df[tres_df['Predicted'] == tres_df['True']]\n",
    "        diff_df = tres_df[tres_df['Predicted'] != tres_df['True']]\n",
    "        ## calculate true false positives and false negatives for each resume\n",
    "        tp = len(same_df[same_df['Predicted'].str.contains(label)])\n",
    "        fp = len(diff_df[diff_df['Predicted'].str.contains(label)]) \n",
    "        fn = len(diff_df[diff_df['True'].str.contains(label)])\n",
    "        ## aggregate result for each resume to totals\n",
    "        true_positives = true_positives + tp\n",
    "        false_positives = false_positives + fp\n",
    "        false_negatives = false_negatives + fn\n",
    "    \n",
    "    print(\"For label '{}' tp: {} fp: {} fn: {}\".format(label,true_positives,false_positives,false_negatives))\n",
    "    \n",
    "    ## TODO Use the formulas you learned to calculate metrics and print them out        \n",
    "    precision = true_positives / (true_positives + false_positives)\n",
    "    recall = true_positives / (true_positives + false_negatives)\n",
    "    f1 = 2 * ( (precision * recall) / (precision + recall) )\n",
    "    print(\"Precision: \",precision)\n",
    "    print(\"Recall: \",recall)\n",
    "    print(\"F1: \",f1)\n",
    "    row = [precision,recall,f1]\n",
    "    data.append(row)\n",
    "\n",
    "## make pandas dataframe with metrics data. Use the chosen entity labels as an index, and the metric names as columns. \n",
    "metric_df = pd.DataFrame(data, columns=['Precision', 'Recall', 'F1'], index=chosen_entity_labels)\n",
    "display(metric_df)"
   ]
  },
  {
   "cell_type": "markdown",
   "metadata": {},
   "source": [
    "Now we compute an average score for each metric. "
   ]
  },
  {
   "cell_type": "code",
   "execution_count": 22,
   "metadata": {},
   "outputs": [
    {
     "name": "stdout",
     "output_type": "stream",
     "text": [
      "Average Precision:  0.7644648090271892\n",
      "Average Rcall:  0.8682955107737443\n",
      "Average F1:  0.8084411239398985\n"
     ]
    }
   ],
   "source": [
    "## TODO compute average metrics And print them out. Use pandas dataframe \"mean\" method to do this\n",
    "average_precision = metric_df['Precision'].mean()\n",
    "average_recall = metric_df['Recall'].mean()\n",
    "average_f1 = metric_df['F1'].mean()\n",
    "print('Average Precision: ', average_precision)\n",
    "print('Average Rcall: ', average_recall)\n",
    "print('Average F1: ', average_f1)"
   ]
  },
  {
   "cell_type": "markdown",
   "metadata": {},
   "source": [
    "##### Question: how do the average metrics here (computed on entity-level) compare to the token-level accuracy score above? Which metric(s) would you prefer to use to evaluate the quality of your model? Why? \n",
    "the average metrics here is less than the token level.\n",
    "i would perfer the entity level metrics, bcause it is for me is easyer to understand and in general it is more speccific"
   ]
  },
  {
   "cell_type": "markdown",
   "metadata": {},
   "source": [
    "We are almost Done with part II! We just need to save our BILUO training data for reuse in Part III. Run the code below to do this. "
   ]
  },
  {
   "cell_type": "code",
   "execution_count": 23,
   "metadata": {},
   "outputs": [
    {
     "name": "stdout",
     "output_type": "stream",
     "text": [
      "Make bilou dfs\n",
      "Done!\n"
     ]
    },
    {
     "name": "stderr",
     "output_type": "stream",
     "text": [
      "c:\\users\\bassel\\appdata\\local\\programs\\python\\python36\\lib\\site-packages\\pandas\\core\\frame.py:6692: FutureWarning: Sorting because non-concatenation axis is not aligned. A future version\n",
      "of pandas will change to not sort by default.\n",
      "\n",
      "To accept the future behavior, pass 'sort=False'.\n",
      "\n",
      "To retain the current behavior and silence the warning, pass 'sort=True'.\n",
      "\n",
      "  sort=sort)\n"
     ]
    }
   ],
   "source": [
    "## TODO persist BILUO data as text\n",
    "print(\"Make bilou dfs\")\n",
    "training_data_as_bilou = [make_bilou_df(custom_nlp,res) for res in train]\n",
    "test_data_as_bilou = [make_bilou_df(custom_nlp,res) for res in test]\n",
    "print(\"Done!\")\n",
    "training_df = pd.DataFrame(columns = [\"text\",\"ner\",\"doc\",\"ner_spacy\"])\n",
    "test_df = pd.DataFrame(columns = [\"text\",\"ner\",\"doc\",\"ner_spacy\"])\n",
    "for idx,df in enumerate(training_data_as_bilou):\n",
    "    df2 = pd.DataFrame()\n",
    "    df2[\"text\"] = df[\"Tokens\"]\n",
    "    df2[\"ner\"] = df[\"True\"]\n",
    "    df2[\"ner_spacy\"]=df[\"Predicted\"]\n",
    "    df2[\"doc\"]=idx\n",
    "    training_df = training_df.append(df2)\n",
    "for idx,df in enumerate(test_data_as_bilou):\n",
    "    df2 = pd.DataFrame()\n",
    "    df2[\"text\"] = df[\"Tokens\"]\n",
    "    df2[\"ner\"] = df[\"True\"]\n",
    "    df2[\"ner_spacy\"]=df[\"Predicted\"]\n",
    "    df2[\"doc\"]=idx\n",
    "    test_df = test_df.append(df2)\n",
    "\n",
    "with open(\"data/flair/train_res_bilou.txt\",'w+',encoding=\"utf-8\") as f:\n",
    "    training_df.to_csv(f,sep=\" \",encoding=\"utf-8\",index=False)\n",
    "with open(\"data/flair/test_res_bilou.txt\",'w+',encoding=\"utf-8\") as f:\n",
    "    training_df.to_csv(f,sep=\" \",encoding=\"utf-8\",index=False)"
   ]
  },
  {
   "cell_type": "markdown",
   "metadata": {},
   "source": [
    "Now let's load the data we persisted with flair before we go on"
   ]
  },
  {
   "cell_type": "code",
   "execution_count": 24,
   "metadata": {},
   "outputs": [
    {
     "ename": "ModuleNotFoundError",
     "evalue": "No module named 'flair'",
     "output_type": "error",
     "traceback": [
      "\u001b[1;31m---------------------------------------------------------------------------\u001b[0m",
      "\u001b[1;31mModuleNotFoundError\u001b[0m                       Traceback (most recent call last)",
      "\u001b[1;32m<ipython-input-24-f718baf43c95>\u001b[0m in \u001b[0;36m<module>\u001b[1;34m\u001b[0m\n\u001b[1;32m----> 1\u001b[1;33m \u001b[1;32mfrom\u001b[0m \u001b[0mflair\u001b[0m\u001b[1;33m.\u001b[0m\u001b[0mdata\u001b[0m \u001b[1;32mimport\u001b[0m \u001b[0mTaggedCorpus\u001b[0m\u001b[1;33m\u001b[0m\u001b[1;33m\u001b[0m\u001b[0m\n\u001b[0m\u001b[0;32m      2\u001b[0m \u001b[1;32mfrom\u001b[0m \u001b[0mflair\u001b[0m\u001b[1;33m.\u001b[0m\u001b[0mdata_fetcher\u001b[0m \u001b[1;32mimport\u001b[0m \u001b[0mNLPTaskDataFetcher\u001b[0m\u001b[1;33m\u001b[0m\u001b[1;33m\u001b[0m\u001b[0m\n\u001b[0;32m      3\u001b[0m \u001b[0mcolumns\u001b[0m \u001b[1;33m=\u001b[0m \u001b[1;33m{\u001b[0m\u001b[1;36m1\u001b[0m\u001b[1;33m:\u001b[0m\u001b[1;34m\"ner\"\u001b[0m\u001b[1;33m,\u001b[0m\u001b[1;36m3\u001b[0m\u001b[1;33m:\u001b[0m\u001b[1;34m\"text\"\u001b[0m\u001b[1;33m}\u001b[0m\u001b[1;33m\u001b[0m\u001b[1;33m\u001b[0m\u001b[0m\n\u001b[0;32m      4\u001b[0m corpus = NLPTaskDataFetcher.load_column_corpus(\"data/flair\",column_format=columns, train_file=\"train_res_bilou.txt\",\n\u001b[0;32m      5\u001b[0m                                                test_file=\"test_res_bilou.txt\")\n",
      "\u001b[1;31mModuleNotFoundError\u001b[0m: No module named 'flair'"
     ]
    }
   ],
   "source": [
    "from flair.data import TaggedCorpus\n",
    "from flair.data_fetcher import NLPTaskDataFetcher\n",
    "columns = {1:\"ner\",3:\"text\"}\n",
    "corpus = NLPTaskDataFetcher.load_column_corpus(\"data/flair\",column_format=columns, train_file=\"train_res_bilou.txt\",\n",
    "                                               test_file=\"test_res_bilou.txt\")"
   ]
  },
  {
   "cell_type": "markdown",
   "metadata": {},
   "source": [
    "If you could load the corpus without error, you are ready to go on to part 3, where we will work with flair nlp! "
   ]
  },
  {
   "cell_type": "code",
   "execution_count": null,
   "metadata": {},
   "outputs": [],
   "source": []
  }
 ],
 "metadata": {
  "kernelspec": {
   "display_name": "Python 3",
   "language": "python",
   "name": "python3"
  },
  "language_info": {
   "codemirror_mode": {
    "name": "ipython",
    "version": 3
   },
   "file_extension": ".py",
   "mimetype": "text/x-python",
   "name": "python",
   "nbconvert_exporter": "python",
   "pygments_lexer": "ipython3",
   "version": "3.6.8"
  }
 },
 "nbformat": 4,
 "nbformat_minor": 1
}
